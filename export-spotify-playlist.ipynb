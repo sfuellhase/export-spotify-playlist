{
 "metadata": {
  "name": "Untitled0"
 },
 "nbformat": 3,
 "nbformat_minor": 0,
 "worksheets": [
  {
   "cells": [
    {
     "cell_type": "code",
     "collapsed": false,
     "input": [
      "import csv\n",
      "import collections\n",
      "import re\n",
      "\n",
      "# http://stackoverflow.com/questions/2087370/decode-html-entities-in-python-string\n",
      "import HTMLParser\n",
      "html_parser = HTMLParser.HTMLParser()\n",
      "\n",
      "# http://wwwsearch.sourceforge.net/mechanize/\n",
      "import mechanize"
     ],
     "language": "python",
     "metadata": {},
     "outputs": [],
     "prompt_number": 71
    },
    {
     "cell_type": "code",
     "collapsed": false,
     "input": [
      "arg1 = 'http://open.spotify.com/user/vietjtnguyen/playlist/58BEX3K4yuhqlkF1lAn0r5'\n",
      "arg1 = 'spotify:user:vietjtnguyen:playlist:58BEX3K4yuhqlkF1lAn0r5'\n",
      "\n",
      "if arg1.startswith('http'):\n",
      "    playlist_url = arg1\n",
      "else:\n",
      "    playlist_url = 'http://open.spotify.com/user/{}/playlist/{}'.format(*re.search('spotify:user:(.+):playlist:(.+)', arg1).groups())\n",
      "\n",
      "print(playlist_url)"
     ],
     "language": "python",
     "metadata": {},
     "outputs": [
      {
       "output_type": "stream",
       "stream": "stdout",
       "text": [
        "http://open.spotify.com/user/vietjtnguyen/playlist/58BEX3K4yuhqlkF1lAn0r5\n"
       ]
      }
     ],
     "prompt_number": 65
    },
    {
     "cell_type": "code",
     "collapsed": false,
     "input": [
      "playlist_br = mechanize.Browser()\n",
      "playlist_br.open(playlist_url)"
     ],
     "language": "python",
     "metadata": {},
     "outputs": [
      {
       "output_type": "pyout",
       "prompt_number": 66,
       "text": [
        "<response_seek_wrapper at 0x3001680 whose wrapped object = <closeable_response at 0x30014d0 whose fp = <socket._fileobject object at 0x2eef950>>>"
       ]
      }
     ],
     "prompt_number": 66
    },
    {
     "cell_type": "code",
     "collapsed": false,
     "input": [
      "# http://docs.python.org/2/library/functions.html#filter\n",
      "track_links = filter(lambda x: x.url.startswith('/track/'), playlist_br.links())"
     ],
     "language": "python",
     "metadata": {},
     "outputs": [],
     "prompt_number": 67
    },
    {
     "cell_type": "code",
     "collapsed": false,
     "input": [
      "# http://docs.python.org/2/library/collections.html#ordereddict-objects\n",
      "tracks = collections.OrderedDict()\n",
      "for track_link in track_links:\n",
      "    tracks[track_link.url] = {'mechanized_link': track_link, 'track_url': 'http://open.spotify.com' + track_link.url}"
     ],
     "language": "python",
     "metadata": {},
     "outputs": [],
     "prompt_number": 68
    },
    {
     "cell_type": "code",
     "collapsed": false,
     "input": [
      "for track in tracks.values():\n",
      "    track_html = mechanize.urlopen(track['track_url']).read()\n",
      "    # http://docs.python.org/2/library/re.html\n",
      "    matches = re.search(r'<h1 itemprop=\"name\">(.+)</h1>[ \\t\\n\\r]*<h2> by <a href=\"(/artist/.+)\">(.+)</a></h2>[ \\t\\n\\r]*</div>[ \\t\\n\\r]*<h3>Tracks in <a href=\"(/album/.+)\">(.+)</a></h3>', track_html)\n",
      "    track['title'], track['artist_url'], track['artist'], track['album_url'], track['album'] = matches.groups()\n",
      "    track['artist_url'] = 'http://open.spotify.com' + track['artist_url']\n",
      "    track['album_url'] = 'http://open.spotify.com' + track['album_url']\n",
      "    track['title'], track['artist'], track['album'] = map(html_parser.unescape, (track['title'], track['artist'], track['album']))\n",
      "    print(track)"
     ],
     "language": "python",
     "metadata": {},
     "outputs": [
      {
       "output_type": "stream",
       "stream": "stdout",
       "text": [
        "{'album': 'Know Better Learn Faster', 'artist': 'Thao with The Get Down Stay Down', 'track_url': 'http://open.spotify.com/track/32vUwy6wyiTOkCvyVZkJQA', 'title': 'Body', 'mechanized_link': Link(base_url='http://open.spotify.com/user/vietjtnguyen/playlist/58BEX3K4yuhqlkF1lAn0r5', url='/track/32vUwy6wyiTOkCvyVZkJQA', text='03:12', tag='a', attrs=[('href', '/track/32vUwy6wyiTOkCvyVZkJQA')]), 'album_url': 'http://open.spotify.com/album/77753cwvgZTji8QfXIos2y', 'artist_url': 'http://open.spotify.com/artist/5VZgqfeocXlwvYNsI4ER6w'}\n",
        "{'album': 'We Brave Bee Stings and All', 'artist': 'Thao with The Get Down Stay Down', 'track_url': 'http://open.spotify.com/track/6VhtrPcjiQXvnNCxWHZb5f', 'title': 'Beat (Health, Life, and Fire)', 'mechanized_link': Link(base_url='http://open.spotify.com/user/vietjtnguyen/playlist/58BEX3K4yuhqlkF1lAn0r5', url='/track/6VhtrPcjiQXvnNCxWHZb5f', text='02:31', tag='a', attrs=[('href', '/track/6VhtrPcjiQXvnNCxWHZb5f')]), 'album_url': 'http://open.spotify.com/album/2f3G3sKmDUzuCxQzSQ6uTW', 'artist_url': 'http://open.spotify.com/artist/5VZgqfeocXlwvYNsI4ER6w'}"
       ]
      },
      {
       "output_type": "stream",
       "stream": "stdout",
       "text": [
        "\n",
        "{'album': 'Know Better Learn Faster', 'artist': 'Thao with The Get Down Stay Down', 'track_url': 'http://open.spotify.com/track/0mNyoNbQ8M3eQfSIh18GVx', 'title': 'Cool Yourself', 'mechanized_link': Link(base_url='http://open.spotify.com/user/vietjtnguyen/playlist/58BEX3K4yuhqlkF1lAn0r5', url='/track/0mNyoNbQ8M3eQfSIh18GVx', text='02:34', tag='a', attrs=[('href', '/track/0mNyoNbQ8M3eQfSIh18GVx')]), 'album_url': 'http://open.spotify.com/album/77753cwvgZTji8QfXIos2y', 'artist_url': 'http://open.spotify.com/artist/5VZgqfeocXlwvYNsI4ER6w'}"
       ]
      },
      {
       "output_type": "stream",
       "stream": "stdout",
       "text": [
        "\n",
        "{'album': 'Under The Iron Sea (Ecopac)', 'artist': 'Keane', 'track_url': 'http://open.spotify.com/track/5sljf9UALHc25yOFgIGC2K', 'title': 'Nothing In My Way', 'mechanized_link': Link(base_url='http://open.spotify.com/user/vietjtnguyen/playlist/58BEX3K4yuhqlkF1lAn0r5', url='/track/5sljf9UALHc25yOFgIGC2K', text='04:00', tag='a', attrs=[('href', '/track/5sljf9UALHc25yOFgIGC2K')]), 'album_url': 'http://open.spotify.com/album/6pIsj19YoL8dcso1wWGT0f', 'artist_url': 'http://open.spotify.com/artist/53A0W3U0s8diEn9RhXQhVz'}"
       ]
      },
      {
       "output_type": "stream",
       "stream": "stdout",
       "text": [
        "\n",
        "{'album': 'Under The Iron Sea (Ecopac)', 'artist': 'Keane', 'track_url': 'http://open.spotify.com/track/31o58NseEGDoIWfHSa3jU3', 'title': 'A Bad Dream', 'mechanized_link': Link(base_url='http://open.spotify.com/user/vietjtnguyen/playlist/58BEX3K4yuhqlkF1lAn0r5', url='/track/31o58NseEGDoIWfHSa3jU3', text='05:04', tag='a', attrs=[('href', '/track/31o58NseEGDoIWfHSa3jU3')]), 'album_url': 'http://open.spotify.com/album/6pIsj19YoL8dcso1wWGT0f', 'artist_url': 'http://open.spotify.com/artist/53A0W3U0s8diEn9RhXQhVz'}"
       ]
      },
      {
       "output_type": "stream",
       "stream": "stdout",
       "text": [
        "\n",
        "{'album': 'Changing', 'artist': 'The Airborne Toxic Event', 'track_url': 'http://open.spotify.com/track/0ZdQuZmy12Mv6px1hjDjcQ', 'title': 'Changing', 'mechanized_link': Link(base_url='http://open.spotify.com/user/vietjtnguyen/playlist/58BEX3K4yuhqlkF1lAn0r5', url='/track/0ZdQuZmy12Mv6px1hjDjcQ', text='03:21', tag='a', attrs=[('href', '/track/0ZdQuZmy12Mv6px1hjDjcQ')]), 'album_url': 'http://open.spotify.com/album/4SE7XHYdgiyebb02mpwiou', 'artist_url': 'http://open.spotify.com/artist/7xovAENFxmyEWhzbnHsB3Z'}"
       ]
      },
      {
       "output_type": "stream",
       "stream": "stdout",
       "text": [
        "\n",
        "{'album': 'Live At The Cedar', 'artist': u'Caroline Smith & The Good Night Sleeps', 'track_url': 'http://open.spotify.com/track/54WmcksTGLpLt5Yv0Du6NW', 'title': 'Tying My Shoes', 'mechanized_link': Link(base_url='http://open.spotify.com/user/vietjtnguyen/playlist/58BEX3K4yuhqlkF1lAn0r5', url='/track/54WmcksTGLpLt5Yv0Du6NW', text='03:08', tag='a', attrs=[('href', '/track/54WmcksTGLpLt5Yv0Du6NW')]), 'album_url': 'http://open.spotify.com/album/2w8fAxB5Kj9047VVHaBi4F', 'artist_url': 'http://open.spotify.com/artist/2gulZPrMWZDYyG2rCKrFza'}"
       ]
      },
      {
       "output_type": "stream",
       "stream": "stdout",
       "text": [
        "\n",
        "{'album': 'Backyard Tent Set', 'artist': u'Caroline Smith & The Good Night Sleeps', 'track_url': 'http://open.spotify.com/track/0lBOXSl5sg2fCM9Nr3iC4q', 'title': 'You Promised Me', 'mechanized_link': Link(base_url='http://open.spotify.com/user/vietjtnguyen/playlist/58BEX3K4yuhqlkF1lAn0r5', url='/track/0lBOXSl5sg2fCM9Nr3iC4q', text='02:53', tag='a', attrs=[('href', '/track/0lBOXSl5sg2fCM9Nr3iC4q')]), 'album_url': 'http://open.spotify.com/album/1fqY9IUBVHvTV2uuGKJVo7', 'artist_url': 'http://open.spotify.com/artist/2gulZPrMWZDYyG2rCKrFza'}"
       ]
      },
      {
       "output_type": "stream",
       "stream": "stdout",
       "text": [
        "\n",
        "{'album': 'Lenka', 'artist': 'Lenka', 'track_url': 'http://open.spotify.com/track/0ngr6YFEU5y2RaYNYLqO9R', 'title': 'The Show', 'mechanized_link': Link(base_url='http://open.spotify.com/user/vietjtnguyen/playlist/58BEX3K4yuhqlkF1lAn0r5', url='/track/0ngr6YFEU5y2RaYNYLqO9R', text='03:55', tag='a', attrs=[('href', '/track/0ngr6YFEU5y2RaYNYLqO9R')]), 'album_url': 'http://open.spotify.com/album/3HcMRzwZsqRPTttFHsggWy', 'artist_url': 'http://open.spotify.com/artist/5g3uG8zZZANGT6YOssgjfC'}"
       ]
      },
      {
       "output_type": "stream",
       "stream": "stdout",
       "text": [
        "\n",
        "{'album': 'Lenka', 'artist': 'Lenka', 'track_url': 'http://open.spotify.com/track/5y4hv4JWUXmyKaXzchNfuS', 'title': u\"Don't Let Me Fall\", 'mechanized_link': Link(base_url='http://open.spotify.com/user/vietjtnguyen/playlist/58BEX3K4yuhqlkF1lAn0r5', url='/track/5y4hv4JWUXmyKaXzchNfuS', text='02:50', tag='a', attrs=[('href', '/track/5y4hv4JWUXmyKaXzchNfuS')]), 'album_url': 'http://open.spotify.com/album/3HcMRzwZsqRPTttFHsggWy', 'artist_url': 'http://open.spotify.com/artist/5g3uG8zZZANGT6YOssgjfC'}"
       ]
      },
      {
       "output_type": "stream",
       "stream": "stdout",
       "text": [
        "\n",
        "{'album': 'Two', 'artist': 'Lenka', 'track_url': 'http://open.spotify.com/track/6V9oJaowRGXbJ5fkkar6KG', 'title': 'Two', 'mechanized_link': Link(base_url='http://open.spotify.com/user/vietjtnguyen/playlist/58BEX3K4yuhqlkF1lAn0r5', url='/track/6V9oJaowRGXbJ5fkkar6KG', text='03:17', tag='a', attrs=[('href', '/track/6V9oJaowRGXbJ5fkkar6KG')]), 'album_url': 'http://open.spotify.com/album/6vEBAUOwE9Y3ieIAf77uTJ', 'artist_url': 'http://open.spotify.com/artist/5g3uG8zZZANGT6YOssgjfC'}"
       ]
      },
      {
       "output_type": "stream",
       "stream": "stdout",
       "text": [
        "\n",
        "{'album': 'Two', 'artist': 'Lenka', 'track_url': 'http://open.spotify.com/track/5aRW3SDucaq2p6eYKXUbBC', 'title': 'Sad Song', 'mechanized_link': Link(base_url='http://open.spotify.com/user/vietjtnguyen/playlist/58BEX3K4yuhqlkF1lAn0r5', url='/track/5aRW3SDucaq2p6eYKXUbBC', text='03:25', tag='a', attrs=[('href', '/track/5aRW3SDucaq2p6eYKXUbBC')]), 'album_url': 'http://open.spotify.com/album/6vEBAUOwE9Y3ieIAf77uTJ', 'artist_url': 'http://open.spotify.com/artist/5g3uG8zZZANGT6YOssgjfC'}"
       ]
      },
      {
       "output_type": "stream",
       "stream": "stdout",
       "text": [
        "\n",
        "{'album': 'Two', 'artist': 'Lenka', 'track_url': 'http://open.spotify.com/track/7pl4CzzmMuPt9BdygX9Wmg', 'title': 'Here To Stay', 'mechanized_link': Link(base_url='http://open.spotify.com/user/vietjtnguyen/playlist/58BEX3K4yuhqlkF1lAn0r5', url='/track/7pl4CzzmMuPt9BdygX9Wmg', text='04:02', tag='a', attrs=[('href', '/track/7pl4CzzmMuPt9BdygX9Wmg')]), 'album_url': 'http://open.spotify.com/album/6vEBAUOwE9Y3ieIAf77uTJ', 'artist_url': 'http://open.spotify.com/artist/5g3uG8zZZANGT6YOssgjfC'}"
       ]
      },
      {
       "output_type": "stream",
       "stream": "stdout",
       "text": [
        "\n",
        "{'album': 'Two', 'artist': 'Lenka', 'track_url': 'http://open.spotify.com/track/4vVOadU0JALfH2y2xpafme', 'title': 'You Will Be Mine', 'mechanized_link': Link(base_url='http://open.spotify.com/user/vietjtnguyen/playlist/58BEX3K4yuhqlkF1lAn0r5', url='/track/4vVOadU0JALfH2y2xpafme', text='03:23', tag='a', attrs=[('href', '/track/4vVOadU0JALfH2y2xpafme')]), 'album_url': 'http://open.spotify.com/album/6vEBAUOwE9Y3ieIAf77uTJ', 'artist_url': 'http://open.spotify.com/artist/5g3uG8zZZANGT6YOssgjfC'}"
       ]
      },
      {
       "output_type": "stream",
       "stream": "stdout",
       "text": [
        "\n",
        "{'album': 'Madness In Miniature', 'artist': 'Mr. Gnome', 'track_url': 'http://open.spotify.com/track/4mR98gi1hEEMR4X8Yo4B7M', 'title': 'Ate the Sun', 'mechanized_link': Link(base_url='http://open.spotify.com/user/vietjtnguyen/playlist/58BEX3K4yuhqlkF1lAn0r5', url='/track/4mR98gi1hEEMR4X8Yo4B7M', text='03:17', tag='a', attrs=[('href', '/track/4mR98gi1hEEMR4X8Yo4B7M')]), 'album_url': 'http://open.spotify.com/album/6E42nLb9ueO6DatJDm9u0e', 'artist_url': 'http://open.spotify.com/artist/2Tcg8ur8LDClHZG1I11iN8'}"
       ]
      },
      {
       "output_type": "stream",
       "stream": "stdout",
       "text": [
        "\n",
        "{'album': 'Madness In Miniature', 'artist': 'Mr. Gnome', 'track_url': 'http://open.spotify.com/track/3XHcsE2M96BQUyoCubnNgd', 'title': 'Watch the City Sail Away', 'mechanized_link': Link(base_url='http://open.spotify.com/user/vietjtnguyen/playlist/58BEX3K4yuhqlkF1lAn0r5', url='/track/3XHcsE2M96BQUyoCubnNgd', text='02:35', tag='a', attrs=[('href', '/track/3XHcsE2M96BQUyoCubnNgd')]), 'album_url': 'http://open.spotify.com/album/6E42nLb9ueO6DatJDm9u0e', 'artist_url': 'http://open.spotify.com/artist/2Tcg8ur8LDClHZG1I11iN8'}"
       ]
      },
      {
       "output_type": "stream",
       "stream": "stdout",
       "text": [
        "\n",
        "{'album': 'Heave Yer Skeleton', 'artist': 'Mr. Gnome', 'track_url': 'http://open.spotify.com/track/3wVzI4I5FHb07fp2g7S53W', 'title': 'Slow Side', 'mechanized_link': Link(base_url='http://open.spotify.com/user/vietjtnguyen/playlist/58BEX3K4yuhqlkF1lAn0r5', url='/track/3wVzI4I5FHb07fp2g7S53W', text='04:35', tag='a', attrs=[('href', '/track/3wVzI4I5FHb07fp2g7S53W')]), 'album_url': 'http://open.spotify.com/album/1Og7p4sj2eyrs3mmOB4wVD', 'artist_url': 'http://open.spotify.com/artist/2Tcg8ur8LDClHZG1I11iN8'}"
       ]
      },
      {
       "output_type": "stream",
       "stream": "stdout",
       "text": [
        "\n",
        "{'album': 'Heave Yer Skeleton', 'artist': 'Mr. Gnome', 'track_url': 'http://open.spotify.com/track/4lHhjS5ChxB4euBlyZSg05', 'title': 'Plastic Shadow', 'mechanized_link': Link(base_url='http://open.spotify.com/user/vietjtnguyen/playlist/58BEX3K4yuhqlkF1lAn0r5', url='/track/4lHhjS5ChxB4euBlyZSg05', text='04:06', tag='a', attrs=[('href', '/track/4lHhjS5ChxB4euBlyZSg05')]), 'album_url': 'http://open.spotify.com/album/1Og7p4sj2eyrs3mmOB4wVD', 'artist_url': 'http://open.spotify.com/artist/2Tcg8ur8LDClHZG1I11iN8'}"
       ]
      },
      {
       "output_type": "stream",
       "stream": "stdout",
       "text": [
        "\n",
        "{'album': 'Heave Yer Skeleton', 'artist': 'Mr. Gnome', 'track_url': 'http://open.spotify.com/track/26jjWcyDbY3v40SVxa7LTC', 'title': u'Sit Up & Hum', 'mechanized_link': Link(base_url='http://open.spotify.com/user/vietjtnguyen/playlist/58BEX3K4yuhqlkF1lAn0r5', url='/track/26jjWcyDbY3v40SVxa7LTC', text='06:03', tag='a', attrs=[('href', '/track/26jjWcyDbY3v40SVxa7LTC')]), 'album_url': 'http://open.spotify.com/album/1Og7p4sj2eyrs3mmOB4wVD', 'artist_url': 'http://open.spotify.com/artist/2Tcg8ur8LDClHZG1I11iN8'}"
       ]
      },
      {
       "output_type": "stream",
       "stream": "stdout",
       "text": [
        "\n",
        "{'album': 'Heave Yer Skeleton', 'artist': 'Mr. Gnome', 'track_url': 'http://open.spotify.com/track/7caJxbywkE4XzajftXNB82', 'title': 'Pixie Dust', 'mechanized_link': Link(base_url='http://open.spotify.com/user/vietjtnguyen/playlist/58BEX3K4yuhqlkF1lAn0r5', url='/track/7caJxbywkE4XzajftXNB82', text='03:33', tag='a', attrs=[('href', '/track/7caJxbywkE4XzajftXNB82')]), 'album_url': 'http://open.spotify.com/album/1Og7p4sj2eyrs3mmOB4wVD', 'artist_url': 'http://open.spotify.com/artist/2Tcg8ur8LDClHZG1I11iN8'}"
       ]
      },
      {
       "output_type": "stream",
       "stream": "stdout",
       "text": [
        "\n",
        "{'album': 'A Hundred Million Suns', 'artist': 'Snow Patrol', 'track_url': 'http://open.spotify.com/track/1rERCOiL17Ouhs8GdCB6bt', 'title': 'The Lightning Strike', 'mechanized_link': Link(base_url='http://open.spotify.com/user/vietjtnguyen/playlist/58BEX3K4yuhqlkF1lAn0r5', url='/track/1rERCOiL17Ouhs8GdCB6bt', text='16:19', tag='a', attrs=[('href', '/track/1rERCOiL17Ouhs8GdCB6bt')]), 'album_url': 'http://open.spotify.com/album/3p4qWyNmx3ckymw2l3lCVO', 'artist_url': 'http://open.spotify.com/artist/3rIZMv9rysU7JkLzEaC5Jp'}"
       ]
      },
      {
       "output_type": "stream",
       "stream": "stdout",
       "text": [
        "\n",
        "{'album': 'Light Grenades', 'artist': 'Incubus', 'track_url': 'http://open.spotify.com/track/4on9tO04OlKhPfMUkvdr7E', 'title': 'Rogues', 'mechanized_link': Link(base_url='http://open.spotify.com/user/vietjtnguyen/playlist/58BEX3K4yuhqlkF1lAn0r5', url='/track/4on9tO04OlKhPfMUkvdr7E', text='03:56', tag='a', attrs=[('href', '/track/4on9tO04OlKhPfMUkvdr7E')]), 'album_url': 'http://open.spotify.com/album/5WwXMygJ3dQXk3S6mDDfCH', 'artist_url': 'http://open.spotify.com/artist/3YcBF2ttyueytpXtEzn1Za'}"
       ]
      },
      {
       "output_type": "stream",
       "stream": "stdout",
       "text": [
        "\n",
        "{'album': 'Light Grenades', 'artist': 'Incubus', 'track_url': 'http://open.spotify.com/track/5wvYib82q05wiNjLElD8GJ', 'title': 'Dig', 'mechanized_link': Link(base_url='http://open.spotify.com/user/vietjtnguyen/playlist/58BEX3K4yuhqlkF1lAn0r5', url='/track/5wvYib82q05wiNjLElD8GJ', text='04:17', tag='a', attrs=[('href', '/track/5wvYib82q05wiNjLElD8GJ')]), 'album_url': 'http://open.spotify.com/album/5WwXMygJ3dQXk3S6mDDfCH', 'artist_url': 'http://open.spotify.com/artist/3YcBF2ttyueytpXtEzn1Za'}"
       ]
      },
      {
       "output_type": "stream",
       "stream": "stdout",
       "text": [
        "\n",
        "{'album': 'Light Grenades', 'artist': 'Incubus', 'track_url': 'http://open.spotify.com/track/0uLhNT7UIH3nZCCDZd3OBl', 'title': 'Anna Molly', 'mechanized_link': Link(base_url='http://open.spotify.com/user/vietjtnguyen/playlist/58BEX3K4yuhqlkF1lAn0r5', url='/track/0uLhNT7UIH3nZCCDZd3OBl', text='03:46', tag='a', attrs=[('href', '/track/0uLhNT7UIH3nZCCDZd3OBl')]), 'album_url': 'http://open.spotify.com/album/5WwXMygJ3dQXk3S6mDDfCH', 'artist_url': 'http://open.spotify.com/artist/3YcBF2ttyueytpXtEzn1Za'}"
       ]
      },
      {
       "output_type": "stream",
       "stream": "stdout",
       "text": [
        "\n",
        "{'album': 'A Change Is Gonna Come', 'artist': 'Sam Cooke', 'track_url': 'http://open.spotify.com/track/0YfOnJWqmAKaUvEL1QcNop', 'title': 'A Change Is Gonna Come', 'mechanized_link': Link(base_url='http://open.spotify.com/user/vietjtnguyen/playlist/58BEX3K4yuhqlkF1lAn0r5', url='/track/0YfOnJWqmAKaUvEL1QcNop', text='03:11', tag='a', attrs=[('href', '/track/0YfOnJWqmAKaUvEL1QcNop')]), 'album_url': 'http://open.spotify.com/album/4IzTGWm7hiv0BpQAG7vWhI', 'artist_url': 'http://open.spotify.com/artist/6hnWRPzGGKiapVX1UCdEAC'}"
       ]
      },
      {
       "output_type": "stream",
       "stream": "stdout",
       "text": [
        "\n",
        "{'album': 'Volume One', 'artist': u'She & Him', 'track_url': 'http://open.spotify.com/track/0V4cj8yjFU9MwNG6irs3uH', 'title': 'Black Hole', 'mechanized_link': Link(base_url='http://open.spotify.com/user/vietjtnguyen/playlist/58BEX3K4yuhqlkF1lAn0r5', url='/track/0V4cj8yjFU9MwNG6irs3uH', text='02:12', tag='a', attrs=[('href', '/track/0V4cj8yjFU9MwNG6irs3uH')]), 'album_url': 'http://open.spotify.com/album/5FHgJlXkHfMP4vwK0hDN0i', 'artist_url': 'http://open.spotify.com/artist/3CIRif6ZAedT7kZSPvj2A4'}"
       ]
      },
      {
       "output_type": "stream",
       "stream": "stdout",
       "text": [
        "\n",
        "{'album': 'Final Straw', 'artist': 'Snow Patrol', 'track_url': 'http://open.spotify.com/track/4jrqkTSKcIUA7RN8SVa04W', 'title': 'Run', 'mechanized_link': Link(base_url='http://open.spotify.com/user/vietjtnguyen/playlist/58BEX3K4yuhqlkF1lAn0r5', url='/track/4jrqkTSKcIUA7RN8SVa04W', text='05:57', tag='a', attrs=[('href', '/track/4jrqkTSKcIUA7RN8SVa04W')]), 'album_url': 'http://open.spotify.com/album/1t6v2wPeIEvmUmBxVCQRt5', 'artist_url': 'http://open.spotify.com/artist/3rIZMv9rysU7JkLzEaC5Jp'}"
       ]
      },
      {
       "output_type": "stream",
       "stream": "stdout",
       "text": [
        "\n",
        "{'album': 'Final Straw', 'artist': 'Snow Patrol', 'track_url': 'http://open.spotify.com/track/1BwbyhhXPnUq8Sa7Bi8jAG', 'title': 'Grazed Knees', 'mechanized_link': Link(base_url='http://open.spotify.com/user/vietjtnguyen/playlist/58BEX3K4yuhqlkF1lAn0r5', url='/track/1BwbyhhXPnUq8Sa7Bi8jAG', text='02:55', tag='a', attrs=[('href', '/track/1BwbyhhXPnUq8Sa7Bi8jAG')]), 'album_url': 'http://open.spotify.com/album/1t6v2wPeIEvmUmBxVCQRt5', 'artist_url': 'http://open.spotify.com/artist/3rIZMv9rysU7JkLzEaC5Jp'}"
       ]
      },
      {
       "output_type": "stream",
       "stream": "stdout",
       "text": [
        "\n",
        "{'album': 'Reach For Glory', 'artist': 'Blackmill', 'track_url': 'http://open.spotify.com/track/4FXj4ZKMO2dSkqiAhV7L8t', 'title': 'Evil Beauty', 'mechanized_link': Link(base_url='http://open.spotify.com/user/vietjtnguyen/playlist/58BEX3K4yuhqlkF1lAn0r5', url='/track/4FXj4ZKMO2dSkqiAhV7L8t', text='03:48', tag='a', attrs=[('href', '/track/4FXj4ZKMO2dSkqiAhV7L8t')]), 'album_url': 'http://open.spotify.com/album/0XHpO9qTpqJJQwa2zFxAAE', 'artist_url': 'http://open.spotify.com/artist/4kjWnaLfIRcLJ1Dy4Wr6tY'}"
       ]
      },
      {
       "output_type": "stream",
       "stream": "stdout",
       "text": [
        "\n",
        "{'album': 'Unorthodox Jukebox', 'artist': 'Bruno Mars', 'track_url': 'http://open.spotify.com/track/4tLihrsL9WMgvI0n9R2bFS', 'title': 'When I Was Your Man', 'mechanized_link': Link(base_url='http://open.spotify.com/user/vietjtnguyen/playlist/58BEX3K4yuhqlkF1lAn0r5', url='/track/4tLihrsL9WMgvI0n9R2bFS', text='03:34', tag='a', attrs=[('href', '/track/4tLihrsL9WMgvI0n9R2bFS')]), 'album_url': 'http://open.spotify.com/album/7KBjLhk3IM27k3ry4vBk3i', 'artist_url': 'http://open.spotify.com/artist/0du5cEVh5yTK9QJze8zA0C'}"
       ]
      },
      {
       "output_type": "stream",
       "stream": "stdout",
       "text": [
        "\n"
       ]
      }
     ],
     "prompt_number": 70
    },
    {
     "cell_type": "code",
     "collapsed": false,
     "input": [
      "# http://docs.python.org/2/library/csv.html\n",
      "with open('out.csv', 'wb') as csv_file:\n",
      "    csv_writer = csv.writer(csv_file)\n",
      "    csv_writer.writerow(['Artist', 'Album', 'Title', 'Artist URL', 'Album URL', 'Track URL'])\n",
      "    for track in tracks.values():\n",
      "        csv_writer.writerow([track[key] for key in ['artist', 'album', 'title', 'artist_url', 'album_url', 'track_url']])"
     ],
     "language": "python",
     "metadata": {},
     "outputs": [],
     "prompt_number": 72
    },
    {
     "cell_type": "code",
     "collapsed": false,
     "input": [],
     "language": "python",
     "metadata": {},
     "outputs": []
    }
   ],
   "metadata": {}
  }
 ]
}